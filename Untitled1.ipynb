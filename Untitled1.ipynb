{
  "nbformat": 4,
  "nbformat_minor": 0,
  "metadata": {
    "colab": {
      "name": "Untitled1.ipynb",
      "provenance": [],
      "authorship_tag": "ABX9TyPobJhZ3chAWSuJryc3Erle",
      "include_colab_link": true
    },
    "kernelspec": {
      "name": "python3",
      "display_name": "Python 3"
    }
  },
  "cells": [
    {
      "cell_type": "markdown",
      "metadata": {
        "id": "view-in-github",
        "colab_type": "text"
      },
      "source": [
        "<a href=\"https://colab.research.google.com/github/Ashish180754/GRIP_TASK1/blob/main/Untitled1.ipynb\" target=\"_parent\"><img src=\"https://colab.research.google.com/assets/colab-badge.svg\" alt=\"Open In Colab\"/></a>"
      ]
    },
    {
      "cell_type": "markdown",
      "metadata": {
        "id": "R4oAbdWSYueJ"
      },
      "source": [
        "#STUDENT PERCENTAGE PREDICTION TASK 1\r\n",
        "\r\n",
        "*Executed by ASHISH PATIL"
      ]
    },
    {
      "cell_type": "code",
      "metadata": {
        "id": "NFSOrfuFS9M2"
      },
      "source": [
        "#Importing important libraries used in the code\r\n",
        "import pandas as pd\r\n",
        "import numpy as np\r\n",
        "import matplotlib.pyplot as plt\r\n",
        "from sklearn.model_selection import train_test_split\r\n",
        "from sklearn.linear_model import LinearRegression\r\n",
        "from sklearn.ensemble import RandomForestRegressor\r\n",
        "from sklearn.metrics import mean_absolute_error,mean_squared_error\r\n",
        "#matplotlib inline"
      ],
      "execution_count": 5,
      "outputs": []
    },
    {
      "cell_type": "markdown",
      "metadata": {
        "id": "XmAgU-5_TVqo"
      },
      "source": [
        "IMPORTING AND DISPLAYING DATA"
      ]
    },
    {
      "cell_type": "code",
      "metadata": {
        "colab": {
          "base_uri": "https://localhost:8080/",
          "height": 212
        },
        "id": "lOIR64SUTWN9",
        "outputId": "ba0251b3-da48-4bae-9cf0-a1985e5668e6"
      },
      "source": [
        "#importing data from the provided link\r\n",
        "url = \"http://bit.ly/w-data\"\r\n",
        "df = pd.read_csv(url)\r\n",
        "print('----------Data Imported Successfully----------')\r\n",
        "\r\n",
        "#printing top rows of the dataframe\r\n",
        "df.head()"
      ],
      "execution_count": 6,
      "outputs": [
        {
          "output_type": "stream",
          "text": [
            "----------Data Imported Successfully----------\n"
          ],
          "name": "stdout"
        },
        {
          "output_type": "execute_result",
          "data": {
            "text/html": [
              "<div>\n",
              "<style scoped>\n",
              "    .dataframe tbody tr th:only-of-type {\n",
              "        vertical-align: middle;\n",
              "    }\n",
              "\n",
              "    .dataframe tbody tr th {\n",
              "        vertical-align: top;\n",
              "    }\n",
              "\n",
              "    .dataframe thead th {\n",
              "        text-align: right;\n",
              "    }\n",
              "</style>\n",
              "<table border=\"1\" class=\"dataframe\">\n",
              "  <thead>\n",
              "    <tr style=\"text-align: right;\">\n",
              "      <th></th>\n",
              "      <th>Hours</th>\n",
              "      <th>Scores</th>\n",
              "    </tr>\n",
              "  </thead>\n",
              "  <tbody>\n",
              "    <tr>\n",
              "      <th>0</th>\n",
              "      <td>2.5</td>\n",
              "      <td>21</td>\n",
              "    </tr>\n",
              "    <tr>\n",
              "      <th>1</th>\n",
              "      <td>5.1</td>\n",
              "      <td>47</td>\n",
              "    </tr>\n",
              "    <tr>\n",
              "      <th>2</th>\n",
              "      <td>3.2</td>\n",
              "      <td>27</td>\n",
              "    </tr>\n",
              "    <tr>\n",
              "      <th>3</th>\n",
              "      <td>8.5</td>\n",
              "      <td>75</td>\n",
              "    </tr>\n",
              "    <tr>\n",
              "      <th>4</th>\n",
              "      <td>3.5</td>\n",
              "      <td>30</td>\n",
              "    </tr>\n",
              "  </tbody>\n",
              "</table>\n",
              "</div>"
            ],
            "text/plain": [
              "   Hours  Scores\n",
              "0    2.5      21\n",
              "1    5.1      47\n",
              "2    3.2      27\n",
              "3    8.5      75\n",
              "4    3.5      30"
            ]
          },
          "metadata": {
            "tags": []
          },
          "execution_count": 6
        }
      ]
    },
    {
      "cell_type": "markdown",
      "metadata": {
        "id": "E57cXrngUeVv"
      },
      "source": [
        "VISUALIZING GIVEN DATA\r\n"
      ]
    },
    {
      "cell_type": "code",
      "metadata": {
        "colab": {
          "base_uri": "https://localhost:8080/",
          "height": 295
        },
        "id": "ZOKqi2WjUjUu",
        "outputId": "ffb07d5c-76f1-41cd-de8b-140e5ab9d894"
      },
      "source": [
        "df.plot(x=\"Hours\" , y=\"Scores\",style=\"*\")\r\n",
        "plt.title(\"Hours vs Percentage\")\r\n",
        "plt.xlabel(\"Hours studied by student\")\r\n",
        "plt.ylabel(\"percentage Scored\")\r\n",
        "plt.show()"
      ],
      "execution_count": 7,
      "outputs": [
        {
          "output_type": "display_data",
          "data": {
            "image/png": "[encoded data removed]",
            "text/plain": [
              "<Figure size 432x288 with 1 Axes>"
            ]
          },
          "metadata": {
            "tags": [],
            "needs_background": "light"
          }
        }
      ]
    },
    {
      "cell_type": "markdown",
      "metadata": {
        "id": "IzdMntD4Uvzx"
      },
      "source": [
        "DISTRIBUTING DATA ON X AND Y AXIS"
      ]
    },
    {
      "cell_type": "code",
      "metadata": {
        "colab": {
          "base_uri": "https://localhost:8080/"
        },
        "id": "baLxDvc_VyDp",
        "outputId": "73340cea-7420-404c-d2e1-9c14180853ed"
      },
      "source": [
        "X= df.iloc[:,:-1].values\r\n",
        "Y= df.iloc[:,1].values\r\n",
        "\r\n",
        "print('X_arr shape:',X.shape)\r\n",
        "print('Y_arr shape:',Y.shape)"
      ],
      "execution_count": 8,
      "outputs": [
        {
          "output_type": "stream",
          "text": [
            "X_arr shape: (25, 1)\n",
            "Y_arr shape: (25,)\n"
          ],
          "name": "stdout"
        }
      ]
    },
    {
      "cell_type": "markdown",
      "metadata": {
        "id": "g_U6hTBqWdKw"
      },
      "source": [
        "Dividing the data set into training and testing"
      ]
    },
    {
      "cell_type": "code",
      "metadata": {
        "colab": {
          "base_uri": "https://localhost:8080/"
        },
        "id": "LnJX-A58Wemp",
        "outputId": "66ec8fe1-2e67-472b-b97f-6e87a15e276d"
      },
      "source": [
        "X_train, X_test, y_train, y_test = train_test_split(X, Y, test_size=0.2, random_state=0)\r\n",
        "\r\n",
        "print('X_train shape:',X_train.shape)\r\n",
        "print('X_test shape:',X_test.shape)\r\n",
        "print('y_train shape:',y_train.shape)\r\n",
        "print('y_test shape:',X_test.shape)"
      ],
      "execution_count": 9,
      "outputs": [
        {
          "output_type": "stream",
          "text": [
            "X_train shape: (20, 1)\n",
            "X_test shape: (5, 1)\n",
            "y_train shape: (20,)\n",
            "y_test shape: (5, 1)\n"
          ],
          "name": "stdout"
        }
      ]
    },
    {
      "cell_type": "markdown",
      "metadata": {
        "id": "8ZeF2Wm6WqVX"
      },
      "source": [
        "Training our model using model 1: Linear Regression"
      ]
    },
    {
      "cell_type": "code",
      "metadata": {
        "colab": {
          "base_uri": "https://localhost:8080/"
        },
        "id": "QB7O6LVuWx_K",
        "outputId": "1e65bbd6-440d-475a-9363-2f6aa2fdd1aa"
      },
      "source": [
        "model1= LinearRegression()\r\n",
        "model1.fit(X_train,y_train)\r\n",
        "print('training completed')"
      ],
      "execution_count": 10,
      "outputs": [
        {
          "output_type": "stream",
          "text": [
            "training completed\n"
          ],
          "name": "stdout"
        }
      ]
    },
    {
      "cell_type": "markdown",
      "metadata": {
        "id": "WYgdVWJjW-oj"
      },
      "source": [
        "Plotting the trained model with our dataset\r\n"
      ]
    },
    {
      "cell_type": "code",
      "metadata": {
        "colab": {
          "base_uri": "https://localhost:8080/",
          "height": 295
        },
        "id": "Jz3URGNJW--y",
        "outputId": "f92f2491-3505-420b-f4c9-a9cb526a18d0"
      },
      "source": [
        "line = model1.coef_*X + model1.intercept_\r\n",
        "\r\n",
        "plt.scatter(X,Y,color='red',marker='*')\r\n",
        "plt.plot(X, line, color='blue')\r\n",
        "plt.xlabel(\"Hours\")\r\n",
        "plt.ylabel(\"Score\")\r\n",
        "plt.title(\"Linear regression plot\")\r\n",
        "plt.show()"
      ],
      "execution_count": 11,
      "outputs": [
        {
          "output_type": "display_data",
          "data": {
            "image/png": "[encoded data removed]",
            "text/plain": [
              "<Figure size 432x288 with 1 Axes>"
            ]
          },
          "metadata": {
            "tags": [],
            "needs_background": "light"
          }
        }
      ]
    },
    {
      "cell_type": "markdown",
      "metadata": {
        "id": "z41jX5A6XfMf"
      },
      "source": [
        "Comparing the actual and predicted values of y"
      ]
    },
    {
      "cell_type": "code",
      "metadata": {
        "colab": {
          "base_uri": "https://localhost:8080/",
          "height": 195
        },
        "id": "fe6QraGtXfw8",
        "outputId": "37d8af2b-d4bc-485d-967a-c40f355cebec"
      },
      "source": [
        "y_pred1 = model1.predict(X_test)\r\n",
        "set1=pd.DataFrame({'Actual':y_test,'Predicted':y_pred1})\r\n",
        "set1"
      ],
      "execution_count": 12,
      "outputs": [
        {
          "output_type": "execute_result",
          "data": {
            "text/html": [
              "<div>\n",
              "<style scoped>\n",
              "    .dataframe tbody tr th:only-of-type {\n",
              "        vertical-align: middle;\n",
              "    }\n",
              "\n",
              "    .dataframe tbody tr th {\n",
              "        vertical-align: top;\n",
              "    }\n",
              "\n",
              "    .dataframe thead th {\n",
              "        text-align: right;\n",
              "    }\n",
              "</style>\n",
              "<table border=\"1\" class=\"dataframe\">\n",
              "  <thead>\n",
              "    <tr style=\"text-align: right;\">\n",
              "      <th></th>\n",
              "      <th>Actual</th>\n",
              "      <th>Predicted</th>\n",
              "    </tr>\n",
              "  </thead>\n",
              "  <tbody>\n",
              "    <tr>\n",
              "      <th>0</th>\n",
              "      <td>20</td>\n",
              "      <td>16.884145</td>\n",
              "    </tr>\n",
              "    <tr>\n",
              "      <th>1</th>\n",
              "      <td>27</td>\n",
              "      <td>33.732261</td>\n",
              "    </tr>\n",
              "    <tr>\n",
              "      <th>2</th>\n",
              "      <td>69</td>\n",
              "      <td>75.357018</td>\n",
              "    </tr>\n",
              "    <tr>\n",
              "      <th>3</th>\n",
              "      <td>30</td>\n",
              "      <td>26.794801</td>\n",
              "    </tr>\n",
              "    <tr>\n",
              "      <th>4</th>\n",
              "      <td>62</td>\n",
              "      <td>60.491033</td>\n",
              "    </tr>\n",
              "  </tbody>\n",
              "</table>\n",
              "</div>"
            ],
            "text/plain": [
              "   Actual  Predicted\n",
              "0      20  16.884145\n",
              "1      27  33.732261\n",
              "2      69  75.357018\n",
              "3      30  26.794801\n",
              "4      62  60.491033"
            ]
          },
          "metadata": {
            "tags": []
          },
          "execution_count": 12
        }
      ]
    },
    {
      "cell_type": "markdown",
      "metadata": {
        "id": "x8jHaMFLYLJ0"
      },
      "source": [
        "checking performance of model 1 : Linear Regression"
      ]
    },
    {
      "cell_type": "code",
      "metadata": {
        "colab": {
          "base_uri": "https://localhost:8080/"
        },
        "id": "24brN74eYMkv",
        "outputId": "26efca53-bb63-4ce7-c444-2f11f1f0440b"
      },
      "source": [
        "print('training model accuracy:', (100*model1.score(X_train,y_train)).round(2),'%')\r\n",
        "print('prediction model accuracy:', (100*(model1.score(X_test,y_test))).round(2),'%')\r\n",
        "mean1=mean_absolute_error(y_test,y_pred1)\r\n",
        "root1=np.sqrt(mean_squared_error(y_test,y_pred1))\r\n",
        "print('Mean Absolute Error in model 1:',mean1.round(3))\r\n",
        "print('Root Mean Squared Error in model 1:',root1.round(3))"
      ],
      "execution_count": 13,
      "outputs": [
        {
          "output_type": "stream",
          "text": [
            "training model accuracy: 95.16 %\n",
            "prediction model accuracy: 94.55 %\n",
            "Mean Absolute Error in model 1: 4.184\n",
            "Root Mean Squared Error in model 1: 4.647\n"
          ],
          "name": "stdout"
        }
      ]
    },
    {
      "cell_type": "markdown",
      "metadata": {
        "id": "6YoD0MzcYsX-"
      },
      "source": [
        "Predicted score of student if he studies for 9.25 hours."
      ]
    },
    {
      "cell_type": "code",
      "metadata": {
        "colab": {
          "base_uri": "https://localhost:8080/"
        },
        "id": "6UF0ofy1OU19",
        "outputId": "aaf99daf-e45c-40f2-c0b5-cdb79c630d3d"
      },
      "source": [
        "#predicting using linear regression model\r\n",
        "hours=9.25\r\n",
        "score_pred=model1.predict([[hours]])\r\n",
        "print('Number of hours student studied: {}'.format(hours))\r\n",
        "print('predicted score: {}'.format(score_pred[0]))"
      ],
      "execution_count": 14,
      "outputs": [
        {
          "output_type": "stream",
          "text": [
            "Number of hours student studied: 9.25\n",
            "predicted score: 93.69173248737539\n"
          ],
          "name": "stdout"
        }
      ]
    }
  ]
}